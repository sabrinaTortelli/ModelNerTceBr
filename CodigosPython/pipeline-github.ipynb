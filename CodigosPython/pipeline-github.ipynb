{
 "cells": [
  {
   "cell_type": "markdown",
   "metadata": {},
   "source": [
    "# Pipeline"
   ]
  },
  {
   "cell_type": "code",
   "execution_count": null,
   "metadata": {},
   "outputs": [],
   "source": [
    "# %pip install datasets\n",
    "# # %pip uninstall transformers\n",
    "# %pip install transformers\n",
    "# %pip install nltk\n",
    "# %pip install torch"
   ]
  },
  {
   "cell_type": "code",
   "execution_count": 1,
   "metadata": {},
   "outputs": [],
   "source": [
    "task = \"ner\"\n",
    "\n",
    "model_checkpoint = \"ModelNerTceBr/ner-TceBr-Final-3-Model-2000lm-TceBr-bert-base-portuguese-cased/model/e5_lr0.0001\""
   ]
  },
  {
   "cell_type": "code",
   "execution_count": 2,
   "metadata": {},
   "outputs": [
    {
     "name": "stderr",
     "output_type": "stream",
     "text": [
      "/home/sabrina/miniconda3/lib/python3.11/site-packages/tqdm/auto.py:21: TqdmWarning: IProgress not found. Please update jupyter and ipywidgets. See https://ipywidgets.readthedocs.io/en/stable/user_install.html\n",
      "  from .autonotebook import tqdm as notebook_tqdm\n"
     ]
    },
    {
     "name": "stdout",
     "output_type": "stream",
     "text": [
      "4.34.1\n",
      "2.1.0+cu121\n"
     ]
    },
    {
     "name": "stderr",
     "output_type": "stream",
     "text": [
      "[nltk_data] Downloading package punkt to /home/sabrina/nltk_data...\n",
      "[nltk_data]   Package punkt is already up-to-date!\n"
     ]
    }
   ],
   "source": [
    "import os\n",
    "import io\n",
    "import transformers\n",
    "from transformers import pipeline\n",
    "from transformers import AutoTokenizer\n",
    "import pathlib\n",
    "from pathlib import Path\n",
    "import nltk\n",
    "nltk.download('punkt')\n",
    "from nltk.tokenize import sent_tokenize\n",
    "import json\n",
    "import csv\n",
    "import torch\n",
    "\n",
    "print(transformers.__version__) # 4.34.1\n",
    "print(torch.__version__) # 2.1.0+cu121"
   ]
  },
  {
   "cell_type": "code",
   "execution_count": 8,
   "metadata": {},
   "outputs": [],
   "source": [
    "# tokenizer = AutoTokenizer.from_pretrained(model_checkpoint, use_fast=True, padding='max_length', max_length=128, model_max_length=512, truncation=True)\n",
    "tokenizer = AutoTokenizer.from_pretrained(model_checkpoint, use_fast=True, padding='max_length', max_length=128, truncation=True)"
   ]
  },
  {
   "cell_type": "code",
   "execution_count": 9,
   "metadata": {},
   "outputs": [],
   "source": [
    "classificador = pipeline(task, model=model_checkpoint, tokenizer=tokenizer)"
   ]
  },
  {
   "cell_type": "code",
   "execution_count": 17,
   "metadata": {},
   "outputs": [
    {
     "data": {
      "text/plain": [
       "[PosixPath('DadosTXT2/009-673-2019-9_IP.txt'),\n",
       " PosixPath('DadosTXT2/033-538-2020-4_IP.txt')]"
      ]
     },
     "execution_count": 17,
     "metadata": {},
     "output_type": "execute_result"
    }
   ],
   "source": [
    "path_to_text_files = 'DadosTXT2'\n",
    "path_to_save_results = 'DadosPipelineJson2/'\n",
    "path_to_save_csv = 'DadosPipelineCsv2/'\n",
    "\n",
    "p = Path(path_to_text_files).glob('**/*')\n",
    "files = [x for x in p if x.is_file() and x.suffix == '.txt']\n",
    "files"
   ]
  },
  {
   "cell_type": "code",
   "execution_count": 18,
   "metadata": {},
   "outputs": [],
   "source": [
    "def sent_tokenize_with_word_limit(text, max_words):\n",
    "    sentences = sent_tokenize(text)\n",
    "    new_sentences = []\n",
    "    for sentence in sentences:\n",
    "        words = sentence.split()\n",
    "        if len(words) <= max_words:\n",
    "            new_sentences.append(sentence)\n",
    "        else:\n",
    "            temp_sentence = []\n",
    "            word_count = 0\n",
    "            for word in words:\n",
    "                if word_count + len(word.split()) <= max_words:\n",
    "                    temp_sentence.append(word)\n",
    "                    word_count += len(word.split())\n",
    "                else:\n",
    "                    new_sentences.append(' '.join(temp_sentence))\n",
    "                    temp_sentence = [word]\n",
    "                    word_count = len(word.split())\n",
    "            if temp_sentence:\n",
    "                new_sentences.append(' '.join(temp_sentence))\n",
    "    return new_sentences"
   ]
  },
  {
   "cell_type": "code",
   "execution_count": 19,
   "metadata": {},
   "outputs": [],
   "source": [
    "for file in files:\n",
    "  try:\n",
    "    resultados = list()\n",
    "    with open(file, 'r') as f:\n",
    "      data = f.read()\n",
    "      max_words = 50\n",
    "      sentences = sent_tokenize_with_word_limit(data, max_words)\n",
    "      for sentence in sentences:\n",
    "        if sentence != '':\n",
    "          resultado = classificador(sentence)\n",
    "          resultados.append(resultado)\n",
    "\n",
    "    nome_arquivo_saida = path_to_save_results + file.stem + \".json\"\n",
    "    with open(nome_arquivo_saida, \"w\") as arquivo_saida:\n",
    "      json.dump(str(resultados), arquivo_saida, indent=4)\n",
    "\n",
    "    nome_arquivo_saida_csv = path_to_save_csv + file.stem + \".csv\"\n",
    "\n",
    "    campos = set()\n",
    "    for lista in resultados:\n",
    "        for objeto in lista:\n",
    "            campos.update(objeto.keys())\n",
    "\n",
    "    # Abra o arquivo CSV para escrita\n",
    "    with open(nome_arquivo_saida_csv, mode='w', newline='', encoding='utf-8') as arquivo_csv:\n",
    "      writer = csv.DictWriter(arquivo_csv, fieldnames=list(campos), delimiter=';')\n",
    "      writer.writeheader()  # Escreve os cabeçalhos dos campos\n",
    "      for lista in resultados:\n",
    "          for objeto in lista:\n",
    "              writer.writerow(objeto)  # Escreve cada objeto como uma linha no arquivo CSV\n",
    "\n",
    "  except Exception as e:\n",
    "    print(\"Problema com o arquivo: \", file)\n",
    "    print(\"Sentence: \", sentence)\n",
    "    print(\"Sentence Length: \", len(sentence))\n",
    "    continue"
   ]
  }
 ],
 "metadata": {
  "kernelspec": {
   "display_name": "Python 3",
   "language": "python",
   "name": "python3"
  },
  "language_info": {
   "codemirror_mode": {
    "name": "ipython",
    "version": 3
   },
   "file_extension": ".py",
   "mimetype": "text/x-python",
   "name": "python",
   "nbconvert_exporter": "python",
   "pygments_lexer": "ipython3",
   "version": "3.11.5"
  }
 },
 "nbformat": 4,
 "nbformat_minor": 2
}
